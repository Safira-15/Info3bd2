{
  "nbformat": 4,
  "nbformat_minor": 0,
  "metadata": {
    "colab": {
      "provenance": []
    },
    "kernelspec": {
      "name": "python3",
      "display_name": "Python 3"
    },
    "language_info": {
      "name": "python"
    }
  },
  "cells": [
    {
      "cell_type": "code",
      "source": [
        "import sqlite3\n",
        "from sqlite3 import Error\n",
        "\n",
        "## Função de alteração (insert, update, delete...)\n",
        "def execute_query(connection, query):\n",
        "    cursor = connection.cursor()\n",
        "    try:\n",
        "        cursor.execute(query)\n",
        "        connection.commit()\n",
        "        print(f\"Query {query.split('(')[0].strip()} executada.\")\n",
        "        if cursor.rowcount != -1: print(f\"{cursor.rowcount} linha(s) afetadas\")\n",
        "\n",
        "    except Error as e:\n",
        "        print(f\"Erro: '{e}'\")\n",
        "\n",
        "\n",
        "# Função de leitura de dados (select)\n",
        "def execute_read_query(connection, query):\n",
        "    cursor = connection.cursor()\n",
        "    result = None\n",
        "    try:\n",
        "        cursor.execute(query)\n",
        "        result = cursor.fetchall()\n",
        "\n",
        "        return result\n",
        "    except Error as e:\n",
        "        print(f\"Erro: '{e}'\")"
      ],
      "metadata": {
        "id": "fzraJIDoaJGM"
      },
      "execution_count": 18,
      "outputs": []
    },
    {
      "cell_type": "code",
      "source": [
        "## Criando conexão\n",
        "connection = sqlite3.connect(\"mapeamento_cultural.sqlite\")\n",
        "\n",
        "query = \"\"\"\n",
        "CREATE TABLE IF NOT EXISTS endereco (\n",
        "    id INTEGER PRIMARY KEY AUTOINCREMENT,\n",
        "    rua VARCHAR(100),\n",
        "    numero VARCHAR(10),\n",
        "    CEP VARCHAR(10),\n",
        "    regiao VARCHAR(50)\n",
        ");\n",
        "\"\"\"\n",
        "execute_query(connection, query)\n",
        "\n",
        "query = \"\"\"\n",
        "CREATE TABLE IF NOT EXISTS pontos_historicos (\n",
        "    id INTEGER PRIMARY KEY AUTOINCREMENT,\n",
        "    descricao TEXT,\n",
        "    endereco_id INT,\n",
        "    FOREIGN KEY (endereco_id) REFERENCES endereco(id)\n",
        ");\n",
        "\"\"\"\n",
        "execute_query(connection, query)\n",
        "\n",
        "query = \"\"\"\n",
        "CREATE TABLE IF NOT EXISTS grupo_cultural (\n",
        "    id INTEGER PRIMARY KEY AUTOINCREMENT,\n",
        "    nome VARCHAR(100),\n",
        "    descricao TEXT,\n",
        "    fotos TEXT,\n",
        "    contato VARCHAR(100)\n",
        ");\n",
        "\"\"\"\n",
        "execute_query(connection, query)\n",
        "\n",
        "query = \"\"\"\n",
        "CREATE TABLE IF NOT EXISTS evento (\n",
        "    id INTEGER PRIMARY KEY AUTOINCREMENT,\n",
        "    data DATE,\n",
        "    horario TIME,\n",
        "    local VARCHAR(100),\n",
        "    status VARCHAR(50),\n",
        "    url_ingresso VARCHAR(255)\n",
        ");\n",
        "\"\"\"\n",
        "execute_query(connection, query)\n",
        "\n",
        "query = \"\"\"\n",
        "CREATE TABLE IF NOT EXISTS localiza (\n",
        "    grupo_id INTEGER,\n",
        "    ponto_id INTEGER,\n",
        "    PRIMARY KEY (grupo_id, ponto_id),\n",
        "    FOREIGN KEY (grupo_id) REFERENCES grupo_cultural(id),\n",
        "    FOREIGN KEY (ponto_id) REFERENCES pontos_historicos(id)\n",
        ");\n",
        "\"\"\"\n",
        "execute_query(connection, query)\n",
        "\n",
        "query = \"\"\"\n",
        "CREATE TABLE IF NOT EXISTS apresenta (\n",
        "    grupo_id INTEGER,\n",
        "    evento_id INTEGER,\n",
        "    grupo_responsavel VARCHAR(100),\n",
        "    PRIMARY KEY (grupo_id, evento_id),\n",
        "    FOREIGN KEY (grupo_id) REFERENCES grupo_cultural(id),\n",
        "    FOREIGN KEY (evento_id) REFERENCES evento(id)\n",
        ");\n",
        "\"\"\"\n",
        "execute_query(connection, query)"
      ],
      "metadata": {
        "id": "y0rBNmxEcJTX",
        "colab": {
          "base_uri": "https://localhost:8080/"
        },
        "outputId": "a58e4fd7-6b18-43da-da09-cc8da6b587d6"
      },
      "execution_count": 19,
      "outputs": [
        {
          "output_type": "stream",
          "name": "stdout",
          "text": [
            "Query CREATE TABLE IF NOT EXISTS endereco executada.\n",
            "Query CREATE TABLE IF NOT EXISTS pontos_historicos executada.\n",
            "Query CREATE TABLE IF NOT EXISTS grupo_cultural executada.\n",
            "Query CREATE TABLE IF NOT EXISTS evento executada.\n",
            "Query CREATE TABLE IF NOT EXISTS localiza executada.\n",
            "Query CREATE TABLE IF NOT EXISTS apresenta executada.\n"
          ]
        }
      ]
    },
    {
      "cell_type": "code",
      "source": [
        "query = \"\"\"\n",
        "SELECT\n",
        "    ph.id AS ponto_id,\n",
        "    ph.descricao AS descricao_ponto,\n",
        "    COUNT(l.grupo_id) AS total_grupos\n",
        "FROM\n",
        "    pontos_historicos ph\n",
        "LEFT JOIN\n",
        "    localiza l ON ph.id = l.ponto_id\n",
        "GROUP BY\n",
        "    ph.id, ph.descricao\n",
        "ORDER BY\n",
        "    total_grupos DESC;\n",
        "\"\"\""
      ],
      "metadata": {
        "id": "a2fpJBTmwpyb"
      },
      "execution_count": 20,
      "outputs": []
    },
    {
      "cell_type": "code",
      "source": [
        "query = \"\"\"\n",
        "SELECT\n",
        "    gc.id AS grupo_id,\n",
        "    gc.nome AS nome_grupo,\n",
        "    COUNT(a.evento_id) AS total_eventos\n",
        "FROM\n",
        "    grupo_cultural gc\n",
        "LEFT JOIN\n",
        "    apresenta a ON gc.id = a.grupo_id\n",
        "GROUP BY\n",
        "    gc.id, gc.nome\n",
        "ORDER BY\n",
        "    total_eventos DESC;\n",
        "\"\"\""
      ],
      "metadata": {
        "id": "7yGtnFTtw2q0"
      },
      "execution_count": 21,
      "outputs": []
    },
    {
      "cell_type": "code",
      "source": [
        "create_view_query = \"\"\"\n",
        "CREATE VIEW IF NOT EXISTS view_eventos_com_grupos_e_locais AS\n",
        "SELECT\n",
        "    e.id AS evento_id,\n",
        "    e.data,\n",
        "    e.horario,\n",
        "    e.local,\n",
        "    gc.nome AS nome_grupo,\n",
        "    ph.descricao AS ponto_historico,\n",
        "    ed.rua,\n",
        "    ed.numero,\n",
        "    ed.regiao\n",
        "FROM\n",
        "    evento e\n",
        "JOIN\n",
        "    apresenta a ON e.id = a.evento_id\n",
        "JOIN\n",
        "    grupo_cultural gc ON a.grupo_id = gc.id\n",
        "JOIN\n",
        "    localiza l ON gc.id = l.grupo_id\n",
        "JOIN\n",
        "    pontos_historicos ph ON l.ponto_id = ph.id\n",
        "JOIN\n",
        "    endereco ed ON ph.endereco_id = ed.id\n",
        "WHERE\n",
        "    e.status = 'ativo';\n",
        "\"\"\"\n",
        "\n",
        "execute_query(connection, create_view_query)"
      ],
      "metadata": {
        "id": "9pCcBUgXymem",
        "colab": {
          "base_uri": "https://localhost:8080/"
        },
        "outputId": "d21c34de-1995-4e4e-f87c-ee1ef17a78ff"
      },
      "execution_count": 22,
      "outputs": [
        {
          "output_type": "stream",
          "name": "stdout",
          "text": [
            "Query CREATE VIEW IF NOT EXISTS view_eventos_com_grupos_e_locais AS\n",
            "SELECT\n",
            "    e.id AS evento_id,\n",
            "    e.data,\n",
            "    e.horario,\n",
            "    e.local,\n",
            "    gc.nome AS nome_grupo,\n",
            "    ph.descricao AS ponto_historico,\n",
            "    ed.rua,\n",
            "    ed.numero,\n",
            "    ed.regiao\n",
            "FROM\n",
            "    evento e\n",
            "JOIN\n",
            "    apresenta a ON e.id = a.evento_id\n",
            "JOIN\n",
            "    grupo_cultural gc ON a.grupo_id = gc.id\n",
            "JOIN\n",
            "    localiza l ON gc.id = l.grupo_id\n",
            "JOIN\n",
            "    pontos_historicos ph ON l.ponto_id = ph.id\n",
            "JOIN\n",
            "    endereco ed ON ph.endereco_id = ed.id\n",
            "WHERE\n",
            "    e.status = 'ativo'; executada.\n"
          ]
        }
      ]
    },
    {
      "cell_type": "code",
      "source": [
        "def registrar_evento_com_grupo(connection, data, horario, local, status, url_ingresso, grupo_id, grupo_responsavel):\n",
        "    cursor = connection.cursor()\n",
        "\n",
        "    try:\n",
        "        cursor.execute(\"SELECT id FROM grupo_cultural WHERE id = ?\", (grupo_id,))\n",
        "        if cursor.fetchone() is None:\n",
        "            print(\"Erro: Grupo cultural não encontrado.\")\n",
        "            return\n",
        "\n",
        "        cursor.execute(\"SELECT * FROM localiza WHERE grupo_id = ?\", (grupo_id,))\n",
        "        if cursor.fetchone() is None:\n",
        "            print(\"Aviso: O grupo não está vinculado a nenhum ponto histórico.\")\n",
        "\n",
        "        cursor.execute(\"\"\"\n",
        "            INSERT INTO evento (data, horario, local, status, url_ingresso)\n",
        "            VALUES (?, ?, ?, ?, ?)\n",
        "        \"\"\", (data, horario, local, status, url_ingresso))\n",
        "        evento_id = cursor.lastrowid\n",
        "\n",
        "        cursor.execute(\"\"\"\n",
        "            INSERT INTO apresenta (grupo_id, evento_id, grupo_responsavel)\n",
        "            VALUES (?, ?, ?)\n",
        "        \"\"\", (grupo_id, evento_id, grupo_responsavel))\n",
        "\n",
        "        connection.commit()\n",
        "        print(\"Evento registrado e associado com sucesso.\")\n",
        "\n",
        "    except Error as e:\n",
        "        print(f\"Erro ao registrar evento: {e}\")\n"
      ],
      "metadata": {
        "id": "5rTIgEZxumse"
      },
      "execution_count": 23,
      "outputs": []
    },
    {
      "cell_type": "code",
      "source": [
        "def listar_eventos_por_grupo(connection, grupo_id):\n",
        "    cursor = connection.cursor()\n",
        "    try:\n",
        "        cursor.execute(\"\"\"\n",
        "            SELECT\n",
        "                e.id AS evento_id,\n",
        "                e.data,\n",
        "                e.horario,\n",
        "                e.local,\n",
        "                e.status,\n",
        "                e.url_ingresso\n",
        "            FROM evento e\n",
        "            JOIN apresenta a ON e.id = a.evento_id\n",
        "            WHERE a.grupo_id = ?\n",
        "            ORDER BY e.data ASC\n",
        "        \"\"\", (grupo_id,))\n",
        "        resultados = cursor.fetchall()\n",
        "        return resultados\n",
        "    except Error as e:\n",
        "        print(f\"Erro ao buscar eventos do grupo: {e}\")\n",
        "        return []\n"
      ],
      "metadata": {
        "id": "E93I3R9GvWlF"
      },
      "execution_count": 24,
      "outputs": []
    },
    {
      "cell_type": "code",
      "source": [
        "query = \"\"\"\n",
        "CREATE TRIGGER IF NOT EXISTS inativar_evento_sem_grupo\n",
        "AFTER DELETE ON apresenta\n",
        "FOR EACH ROW\n",
        "BEGIN\n",
        "    UPDATE evento\n",
        "    SET status = 'inativo'\n",
        "    WHERE id = OLD.evento_id\n",
        "    AND NOT EXISTS (\n",
        "        SELECT 1 FROM apresenta WHERE evento_id = OLD.evento_id\n",
        "    );\n",
        "END;\n",
        "\"\"\"\n",
        "execute_query(connection, query)"
      ],
      "metadata": {
        "colab": {
          "base_uri": "https://localhost:8080/"
        },
        "id": "q1fD-0Nov7t7",
        "outputId": "320ecbc9-2ba8-4689-d36e-c5875320565c"
      },
      "execution_count": 25,
      "outputs": [
        {
          "output_type": "stream",
          "name": "stdout",
          "text": [
            "Query CREATE TRIGGER IF NOT EXISTS inativar_evento_sem_grupo\n",
            "AFTER DELETE ON apresenta\n",
            "FOR EACH ROW\n",
            "BEGIN\n",
            "    UPDATE evento\n",
            "    SET status = 'inativo'\n",
            "    WHERE id = OLD.evento_id\n",
            "    AND NOT EXISTS executada.\n"
          ]
        }
      ]
    }
  ]
}